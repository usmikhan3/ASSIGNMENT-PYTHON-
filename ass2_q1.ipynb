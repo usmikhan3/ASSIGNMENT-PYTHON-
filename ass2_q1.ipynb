{
 "cells": [
  {
   "cell_type": "code",
   "execution_count": 5,
   "metadata": {},
   "outputs": [
    {
     "name": "stdout",
     "output_type": "stream",
     "text": [
      "\t\t\t *******MARKSSHEET********\n",
      "what is your maths marks?90\n",
      "what is your english marks?75\n",
      "what is your urdu marks?66\n",
      "what is your science marks?56\n",
      "what is your computer marks?85\n",
      "\n",
      "your total marks are: 372\n",
      "\n",
      "your percentage is: 74.4\n",
      "Congratulations You have secured Grade C\n"
     ]
    }
   ],
   "source": [
    "print(\"\\t\\t\\t *******MARKSSHEET********\")\n",
    "maths = int(input(\"what is your maths marks?\"))\n",
    "eng = int(input(\"what is your english marks?\"))\n",
    "urdu = int(input(\"what is your urdu marks?\"))\n",
    "sci = int(input(\"what is your science marks?\"))\n",
    "comp = int(input(\"what is your computer marks?\"))\n",
    "\n",
    "\n",
    "total = maths + eng + urdu + sci + comp\n",
    "per = (total/500)*100\n",
    "print(\"\\nyour total marks are: \" + str(total))\n",
    "print(\"\\nyour percentage is: \" + str(per))\n",
    "if per >= 90 and per <=100:\n",
    " print(\"Congratulations! You have secured Grade A\")\n",
    "elif per <90 and per >=80:\n",
    " print(\"Congratulations! You have secured Grade B\")\n",
    "elif per <80 and per >=70:\n",
    " print(\"Congratulations You have secured Grade C\")\n",
    "elif per <70 and per >=60:\n",
    " print(\"Congratulations You have secured Grade D\")\n",
    "else:\n",
    " print(\"You have failed in examinations\")"
   ]
  },
  {
   "cell_type": "code",
   "execution_count": null,
   "metadata": {},
   "outputs": [],
   "source": []
  }
 ],
 "metadata": {
  "kernelspec": {
   "display_name": "Python 3",
   "language": "python",
   "name": "python3"
  },
  "language_info": {
   "codemirror_mode": {
    "name": "ipython",
    "version": 3
   },
   "file_extension": ".py",
   "mimetype": "text/x-python",
   "name": "python",
   "nbconvert_exporter": "python",
   "pygments_lexer": "ipython3",
   "version": "3.7.4"
  }
 },
 "nbformat": 4,
 "nbformat_minor": 2
}

{
 "cells": [
  {
   "cell_type": "code",
   "execution_count": 3,
   "metadata": {},
   "outputs": [
    {
     "name": "stdout",
     "output_type": "stream",
     "text": [
      "\t\t\t *****EVEN OR ODD*****\n",
      "Please enter the number : 5\n",
      "the number is ODD\n"
     ]
    }
   ],
   "source": [
    "print (\"\\t\\t\\t *****EVEN OR ODD*****\")\n",
    "\n",
    "inp = int (input(\"Please enter the number : \"))\n",
    "\n",
    "if inp%2 ==0:\n",
    "    print(\"the number is EVEN\")\n",
    "else:\n",
    "    print(\"the number is ODD\")"
   ]
  },
  {
   "cell_type": "code",
   "execution_count": null,
   "metadata": {},
   "outputs": [],
   "source": []
  },
  {
   "cell_type": "code",
   "execution_count": null,
   "metadata": {},
   "outputs": [],
   "source": []
  }
 ],
 "metadata": {
  "kernelspec": {
   "display_name": "Python 3",
   "language": "python",
   "name": "python3"
  },
  "language_info": {
   "codemirror_mode": {
    "name": "ipython",
    "version": 3
   },
   "file_extension": ".py",
   "mimetype": "text/x-python",
   "name": "python",
   "nbconvert_exporter": "python",
   "pygments_lexer": "ipython3",
   "version": "3.7.4"
  }
 },
 "nbformat": 4,
 "nbformat_minor": 2
}

{
 "cells": [
  {
   "cell_type": "code",
   "execution_count": 5,
   "metadata": {},
   "outputs": [
    {
     "name": "stdout",
     "output_type": "stream",
     "text": [
      "Enter 1st value ?88\n",
      "Enter 2nd value ?2\n",
      "please select operator to perform:\n",
      " 1. '+' \n",
      " 2.'-' \n",
      " 3. '*' \n",
      " 4. '/' \n",
      " 5.'**'**\n",
      "7744.0\n"
     ]
    }
   ],
   "source": [
    "val1 = float(input(\"Enter 1st value ?\"))\n",
    "val2 = float(input(\"Enter 2nd value ?\"))\n",
    "\n",
    "op = ['+','-','*','/',\"**\"]\n",
    "\n",
    "action = input(\"please select operator to perform:\\n 1. '+' \\n 2.'-' \\n 3. '*' \\n 4. '/' \\n 5.'**'\")\n",
    "\n",
    "if action == '+':\n",
    "    print (val1 + val2)\n",
    "elif action =='-':\n",
    "    print (val1 - val2)\n",
    "elif action =='*':\n",
    "    print (val1 * val2)\n",
    "elif action =='/':\n",
    "    print (val1 / val2)\n",
    "elif action ==\"**\":\n",
    "    print (val1 ** val2)\n",
    "else:\n",
    "    print(\"wrong operator\")"
   ]
  },
  {
   "cell_type": "code",
   "execution_count": null,
   "metadata": {},
   "outputs": [],
   "source": []
  },
  {
   "cell_type": "code",
   "execution_count": null,
   "metadata": {},
   "outputs": [],
   "source": []
  },
  {
   "cell_type": "code",
   "execution_count": null,
   "metadata": {},
   "outputs": [],
   "source": []
  }
 ],
 "metadata": {
  "kernelspec": {
   "display_name": "Python 3",
   "language": "python",
   "name": "python3"
  },
  "language_info": {
   "codemirror_mode": {
    "name": "ipython",
    "version": 3
   },
   "file_extension": ".py",
   "mimetype": "text/x-python",
   "name": "python",
   "nbconvert_exporter": "python",
   "pygments_lexer": "ipython3",
   "version": "3.7.4"
  }
 },
 "nbformat": 4,
 "nbformat_minor": 2
}

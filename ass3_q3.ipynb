{
 "cells": [
  {
   "cell_type": "code",
   "execution_count": 6,
   "metadata": {},
   "outputs": [
    {
     "name": "stdout",
     "output_type": "stream",
     "text": [
      "{'first name': 'Muhammad', 'last name': 'Usman Khan', 'city': 'karachi'}\n",
      "\n",
      "\n",
      "after adding item\n",
      "\n",
      "\n",
      "{'first name': 'Muhammad', 'last name': 'Usman Khan', 'city': 'karachi', 'language': 'urdu'}\n"
     ]
    }
   ],
   "source": [
    "dic = {\"first name\" : \"Muhammad\",\n",
    "        \"last name\" : \"Usman Khan\",\n",
    "         \"city\"     :  \"karachi\"}\n",
    "print(dic)\n",
    "print(\"\\n\\nafter adding item\\n\\n\")\n",
    "dic[\"language\"] = \"urdu\"\n",
    "print(dic)\n",
    "    "
   ]
  },
  {
   "cell_type": "code",
   "execution_count": null,
   "metadata": {},
   "outputs": [],
   "source": []
  }
 ],
 "metadata": {
  "kernelspec": {
   "display_name": "Python 3",
   "language": "python",
   "name": "python3"
  },
  "language_info": {
   "codemirror_mode": {
    "name": "ipython",
    "version": 3
   },
   "file_extension": ".py",
   "mimetype": "text/x-python",
   "name": "python",
   "nbconvert_exporter": "python",
   "pygments_lexer": "ipython3",
   "version": "3.7.4"
  }
 },
 "nbformat": 4,
 "nbformat_minor": 2
}

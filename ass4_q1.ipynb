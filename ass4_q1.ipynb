{
 "cells": [
  {
   "cell_type": "code",
   "execution_count": 15,
   "metadata": {},
   "outputs": [
    {
     "name": "stdout",
     "output_type": "stream",
     "text": [
      "{'first_name: ': 'Usman', 'last_name: ': 'Khan', 'age: ': '21', 'city: ': 'Karachi'}\n",
      "{'first_name: ': 'Usman', 'last_name: ': 'Khan', 'age: ': '21', 'city: ': 'Karachi', 'qualification:': 'graduate'}\n",
      "{'first_name: ': 'Usman', 'last_name: ': 'Khan', 'age: ': '21', 'city: ': 'Karachi'}\n"
     ]
    }
   ],
   "source": [
    "person_info = {\n",
    "    \"first_name: \": \"Usman\",\n",
    "    \"last_name: \": \"Khan\",\n",
    "    \"age: \": \"21\",\n",
    "    \"city: \": \"Karachi\"\n",
    "}\n",
    "\n",
    "print(person_info)\n",
    "\n",
    "person_info.update({\"qualification:\" : \"graduate\"})\n",
    "print(person_info)\n",
    "\n",
    "person_info.pop(\"qualification:\")\n",
    "\n",
    "print(person_info)"
   ]
  },
  {
   "cell_type": "code",
   "execution_count": null,
   "metadata": {},
   "outputs": [],
   "source": []
  }
 ],
 "metadata": {
  "kernelspec": {
   "display_name": "Python 3",
   "language": "python",
   "name": "python3"
  },
  "language_info": {
   "codemirror_mode": {
    "name": "ipython",
    "version": 3
   },
   "file_extension": ".py",
   "mimetype": "text/x-python",
   "name": "python",
   "nbconvert_exporter": "python",
   "pygments_lexer": "ipython3",
   "version": "3.7.4"
  }
 },
 "nbformat": 4,
 "nbformat_minor": 2
}

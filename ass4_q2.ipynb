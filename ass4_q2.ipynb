{
 "cells": [
  {
   "cell_type": "code",
   "execution_count": 1,
   "metadata": {},
   "outputs": [
    {
     "name": "stdout",
     "output_type": "stream",
     "text": [
      "{'Karachi:': {'country': 'Pakistan', 'population': '14.91 million '}, 'Boston': {'country': 'United states', 'population': '685,094'}}\n"
     ]
    }
   ],
   "source": [
    "cities = {\n",
    "    \"Karachi:\" :\n",
    "    {\n",
    "        \"country\" : \"Pakistan\",\n",
    "        \"population\" : \"14.91 million \"\n",
    "     },\n",
    "    \"Boston\" : \n",
    "    {\n",
    "        \"country\" : \"United states\",\n",
    "        \"population\" : \"685,094\"\n",
    "    }\n",
    "}\n",
    "\n",
    "print(cities)"
   ]
  },
  {
   "cell_type": "code",
   "execution_count": null,
   "metadata": {},
   "outputs": [],
   "source": []
  }
 ],
 "metadata": {
  "kernelspec": {
   "display_name": "Python 3",
   "language": "python",
   "name": "python3"
  },
  "language_info": {
   "codemirror_mode": {
    "name": "ipython",
    "version": 3
   },
   "file_extension": ".py",
   "mimetype": "text/x-python",
   "name": "python",
   "nbconvert_exporter": "python",
   "pygments_lexer": "ipython3",
   "version": "3.7.4"
  }
 },
 "nbformat": 4,
 "nbformat_minor": 2
}

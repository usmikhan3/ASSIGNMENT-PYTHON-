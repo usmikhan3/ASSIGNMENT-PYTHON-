{
 "cells": [
  {
   "cell_type": "code",
   "execution_count": 1,
   "metadata": {},
   "outputs": [
    {
     "name": "stdout",
     "output_type": "stream",
     "text": [
      "Guess a number between 1 and 30: 5\n",
      "too low\n",
      "Guess a number between 1 and 30: 16\n",
      "too low\n",
      "Guess a number between 1 and 30: 18\n",
      "too low\n",
      "Guess a number between 1 and 30: 26\n",
      "too high\n",
      "Guess a number between 1 and 30: 24\n",
      "too low\n",
      "Guess a number between 1 and 30: 25\n",
      "You got it!\n"
     ]
    }
   ],
   "source": [
    "from random import randint \n",
    "num = randint(0, 31)\n",
    "def guess():\n",
    "    while True:\n",
    "        x = int(input('Guess a number between 1 and 30: '))\n",
    "        if x == num:\n",
    "            print(\"You got it!\")\n",
    "            break\n",
    "        elif x > num:\n",
    "            print(\"too high\")\n",
    "        else:\n",
    "            print(\"too low\")\n",
    "guess()"
   ]
  },
  {
   "cell_type": "code",
   "execution_count": null,
   "metadata": {},
   "outputs": [],
   "source": []
  }
 ],
 "metadata": {
  "kernelspec": {
   "display_name": "Python 3",
   "language": "python",
   "name": "python3"
  },
  "language_info": {
   "codemirror_mode": {
    "name": "ipython",
    "version": 3
   },
   "file_extension": ".py",
   "mimetype": "text/x-python",
   "name": "python",
   "nbconvert_exporter": "python",
   "pygments_lexer": "ipython3",
   "version": "3.7.4"
  }
 },
 "nbformat": 4,
 "nbformat_minor": 2
}

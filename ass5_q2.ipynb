{
 "cells": [
  {
   "cell_type": "code",
   "execution_count": 11,
   "metadata": {},
   "outputs": [
    {
     "name": "stdout",
     "output_type": "stream",
     "text": [
      "LOWERCASE LETTERS ARE \n",
      "2\n",
      "\n",
      "UPPERCASE LETTERS ARE \n",
      "3\n"
     ]
    }
   ],
   "source": [
    "def lowup(s):\n",
    "    low = 0\n",
    "    up = 0\n",
    "    for i in s:\n",
    "        if(i.islower()):\n",
    "            low=low+1\n",
    "        else:\n",
    "            up=up+1\n",
    "    print(\"LOWERCASE LETTERS ARE \"  )\n",
    "    print(low)\n",
    "    print(\"\\nUPPERCASE LETTERS ARE \"  )\n",
    "    print(up)\n",
    "lowup('USmaN')\n",
    "    "
   ]
  },
  {
   "cell_type": "code",
   "execution_count": null,
   "metadata": {},
   "outputs": [],
   "source": []
  },
  {
   "cell_type": "code",
   "execution_count": null,
   "metadata": {},
   "outputs": [],
   "source": []
  }
 ],
 "metadata": {
  "kernelspec": {
   "display_name": "Python 3",
   "language": "python",
   "name": "python3"
  },
  "language_info": {
   "codemirror_mode": {
    "name": "ipython",
    "version": 3
   },
   "file_extension": ".py",
   "mimetype": "text/x-python",
   "name": "python",
   "nbconvert_exporter": "python",
   "pygments_lexer": "ipython3",
   "version": "3.7.4"
  }
 },
 "nbformat": 4,
 "nbformat_minor": 2
}
